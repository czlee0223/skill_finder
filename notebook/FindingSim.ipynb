{
 "cells": [
  {
   "cell_type": "markdown",
   "id": "cc86b232-dfaa-428d-8a2b-4ec30549623e",
   "metadata": {},
   "source": [
    "# Spacy underhoods"
   ]
  },
  {
   "cell_type": "code",
   "execution_count": 6,
   "id": "27f1f870-e3c4-4a73-855d-8e4d2edbeb0b",
   "metadata": {},
   "outputs": [],
   "source": [
    "nlp = spacy.load(\"en_core_web_lg\")\n",
    "nlp.to_disk(\"en_core_web_lg_demo\")"
   ]
  },
  {
   "cell_type": "code",
   "execution_count": 3,
   "id": "b8b76594-5252-4610-a444-28a85070b9e6",
   "metadata": {},
   "outputs": [],
   "source": [
    "import numpy as np\n",
    "import spacy\n",
    "\n",
    "def spacy_similarity(your_word):\n",
    "\n",
    "    nlp = spacy.load(\"en_core_web_lg\")\n",
    "\n",
    "    # your_word = \"king\"\n",
    "\n",
    "    ms = nlp.vocab.vectors.most_similar(\n",
    "        np.asarray([nlp.vocab.vectors[nlp.vocab.strings[your_word]]]), n=10)\n",
    "    words = [nlp.vocab.strings[w] for w in ms[0][0]]\n",
    "    distances = ms[2]\n",
    "    print(words)\n",
    "# ['King', 'KIng', 'king', 'KING', 'kings', 'KINGS', 'Kings', 'PRINCE', 'Prince', 'prince']"
   ]
  },
  {
   "cell_type": "code",
   "execution_count": 5,
   "id": "40277b15-0b3e-4c46-8bf8-d8f8d5a1eb4b",
   "metadata": {},
   "outputs": [
    {
     "name": "stdout",
     "output_type": "stream",
     "text": [
      "['PYTHON', 'PERL', 'JAVA', 'DJango', 'c++', 'PhP', 'RUBY', 'ANACONDA', 'Numpy', 'LEOPARD']\n"
     ]
    }
   ],
   "source": [
    "spacy_similarity(\"Python\")"
   ]
  },
  {
   "cell_type": "markdown",
   "id": "ccbe97f7-74d8-49a1-84cd-53686a35a6a6",
   "metadata": {},
   "source": [
    "# Google word embedding"
   ]
  },
  {
   "cell_type": "code",
   "execution_count": 13,
   "id": "a2486c78-8dbd-4659-8eeb-cfd82259a8a2",
   "metadata": {},
   "outputs": [],
   "source": [
    "import numpy as np"
   ]
  },
  {
   "cell_type": "code",
   "execution_count": 3,
   "id": "e95bf0a2-bff0-4f63-9bfb-a3a6c89d7050",
   "metadata": {},
   "outputs": [],
   "source": [
    "# from gensim.models.word2vec import Word2Vec\n",
    "# from gensim.models import KeyedVectors\n",
    "import gensim\n",
    "import spacy\n",
    "# google_news_path = \"GoogleNews-vectors-negative300.bin.gz\"\n",
    "# model = KeyedVectors.load_word2vec_format('GoogleNews-vectors-negative300.bin', binary=True)\n",
    "model = gensim.models.KeyedVectors.load_word2vec_format(\"data/GoogleNews-vectors-negative300.bin.gz\", binary=True)"
   ]
  },
  {
   "cell_type": "code",
   "execution_count": 9,
   "id": "a241e9e6-41bc-4a33-93c3-a7289ac1901a",
   "metadata": {},
   "outputs": [],
   "source": [
    "nlp = spacy.blank('en')\n",
    "nlp.vocab.vectors = spacy.vocab.Vectors(data=model.vectors, keys=model.index_to_key) "
   ]
  },
  {
   "cell_type": "code",
   "execution_count": 24,
   "id": "b2f274eb-e97e-4f82-a2be-364b727ed6e2",
   "metadata": {},
   "outputs": [
    {
     "data": {
      "text/plain": [
       "[('Governor_Ahmad_Heryawan', 0.6196016669273376),\n",
       " ('Garut_regency', 0.616998016834259),\n",
       " ('Jumpin_Juice', 0.6157108545303345),\n",
       " ('Surakarta_Central', 0.6124047040939331),\n",
       " ('Pasuruan_East', 0.606446385383606),\n",
       " ('Sukoharjo_Central', 0.6017959117889404),\n",
       " ('J2EE', 0.6002236604690552),\n",
       " ('specification_JSR', 0.5977613925933838),\n",
       " ('Tulungagung', 0.5945774912834167),\n",
       " ('Data_Objects_JDO', 0.5928086638450623)]"
      ]
     },
     "execution_count": 24,
     "metadata": {},
     "output_type": "execute_result"
    }
   ],
   "source": [
    "model.most_similar(\"Java\", topn=10)"
   ]
  },
  {
   "cell_type": "code",
   "execution_count": null,
   "id": "af7b34f9-02c1-4a47-b5e7-e08c2cf2fdbe",
   "metadata": {},
   "outputs": [],
   "source": [
    "import spacy\n",
    "nlp = spacy.load('en',vectors='en_google')"
   ]
  },
  {
   "cell_type": "code",
   "execution_count": 15,
   "id": "9b406069-1755-48a8-89d6-73f8cabd53b8",
   "metadata": {},
   "outputs": [
    {
     "name": "stdout",
     "output_type": "stream",
     "text": [
      "\u001b[1m\n",
      "============================== Info about spaCy ==============================\u001b[0m\n",
      "\n",
      "spaCy version    3.3.0                         \n",
      "Location         C:\\Users\\ZACK LEE\\Documents\\Coding\\skill_finder\\env1\\lib\\site-packages\\spacy\n",
      "Platform         Windows-10-10.0.22000-SP0     \n",
      "Python version   3.8.6                         \n",
      "Pipelines        en_core_web_lg (3.3.0)        \n",
      "\n"
     ]
    }
   ],
   "source": [
    "!python -m spacy info"
   ]
  },
  {
   "cell_type": "code",
   "execution_count": 30,
   "id": "fc44ffab-99d7-4089-b0ae-728956a5043d",
   "metadata": {},
   "outputs": [],
   "source": [
    "model.save_word2vec_format('data/googlenews.txt')"
   ]
  },
  {
   "cell_type": "code",
   "execution_count": null,
   "id": "9585ccfb-0fff-4561-b589-1a0d670e42d7",
   "metadata": {},
   "outputs": [],
   "source": []
  }
 ],
 "metadata": {
  "kernelspec": {
   "display_name": "env1",
   "language": "python",
   "name": "env1"
  },
  "language_info": {
   "codemirror_mode": {
    "name": "ipython",
    "version": 3
   },
   "file_extension": ".py",
   "mimetype": "text/x-python",
   "name": "python",
   "nbconvert_exporter": "python",
   "pygments_lexer": "ipython3",
   "version": "3.8.6"
  }
 },
 "nbformat": 4,
 "nbformat_minor": 5
}
