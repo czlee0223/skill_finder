{
 "cells": [
  {
   "cell_type": "code",
   "execution_count": 1,
   "id": "10009c81",
   "metadata": {},
   "outputs": [],
   "source": [
    "import pandas as pd\n",
    "from sqlalchemy import create_engine\n",
    "import pymysql\n",
    "import json\n",
    "pl_data = pd.read_csv(\"data/word_count_data/programming_languages.csv\")\n",
    "tl_data = pd.read_csv(\"data/word_count_data/tools.csv\")\n",
    "lib_data = pd.read_csv(\"data/word_count_data/library.csv\")\n",
    "edu_data = pd.read_csv(\"data/word_count_data/education.csv\")\n",
    "pl_data.drop(\"Unnamed: 0\",axis=1,inplace=True)\n",
    "tl_data.drop(\"Unnamed: 0\",axis=1,inplace=True)\n",
    "lib_data.drop(\"Unnamed: 0\",axis=1,inplace=True)\n",
    "edu_data.drop(\"Unnamed: 0\",axis=1,inplace=True)\n"
   ]
  },
  {
   "cell_type": "code",
   "execution_count": 31,
   "id": "6eee058a",
   "metadata": {},
   "outputs": [],
   "source": [
    "# Credentials to database connection\n",
    "def load_data(file):\n",
    "    with open(file,\"r\",encoding=\"utf-8\") as f:\n",
    "        data = json.load(f)\n",
    "    return data\n",
    "\n",
    "db_details = load_data(\"data/db_details.json\")\n",
    "hostname=db_details[\"DBHOST\"]\n",
    "dbname=db_details[\"DBNAME\"]\n",
    "uname=db_details[\"DBUSER\"]\n",
    "pwd=db_details[\"DBPASS\"]\n",
    "engine = create_engine(\"mysql+pymysql://{user}:{pw}@{host}/{db}\".format(host=hostname, db=dbname, user=uname, pw=pwd))"
   ]
  },
  {
   "cell_type": "code",
   "execution_count": 32,
   "id": "c12032e0",
   "metadata": {},
   "outputs": [
    {
     "data": {
      "text/plain": [
       "3"
      ]
     },
     "execution_count": 32,
     "metadata": {},
     "output_type": "execute_result"
    }
   ],
   "source": [
    "pl_data.to_sql('programminglanguages', engine, index=False)\n",
    "tl_data.to_sql('tools', engine, index=False)\n",
    "lib_data.to_sql('library', engine, index=False)\n",
    "edu_data.to_sql('education', engine, index=False)"
   ]
  },
  {
   "cell_type": "code",
   "execution_count": 2,
   "id": "038d41b2",
   "metadata": {},
   "outputs": [
    {
     "data": {
      "text/plain": [
       "'skillfinder_database'"
      ]
     },
     "execution_count": 2,
     "metadata": {},
     "output_type": "execute_result"
    }
   ],
   "source": [
    "\n",
    "db_details[\"DBNAME\"]"
   ]
  },
  {
   "cell_type": "code",
   "execution_count": null,
   "id": "139faec6",
   "metadata": {},
   "outputs": [],
   "source": []
  }
 ],
 "metadata": {
  "kernelspec": {
   "display_name": "env1",
   "language": "python",
   "name": "env1"
  },
  "language_info": {
   "codemirror_mode": {
    "name": "ipython",
    "version": 3
   },
   "file_extension": ".py",
   "mimetype": "text/x-python",
   "name": "python",
   "nbconvert_exporter": "python",
   "pygments_lexer": "ipython3",
   "version": "3.8.6"
  }
 },
 "nbformat": 4,
 "nbformat_minor": 5
}
