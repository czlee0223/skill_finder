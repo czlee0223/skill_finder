{
 "cells": [
  {
   "cell_type": "markdown",
   "id": "0bf18e7a-21a3-407a-b600-e049f855da53",
   "metadata": {},
   "source": [
    "# Create Training Data"
   ]
  },
  {
   "cell_type": "code",
   "execution_count": 1,
   "id": "d676903e-42ec-4415-8ef3-8f870924a3a8",
   "metadata": {},
   "outputs": [],
   "source": [
    "import spacy\n",
    "import json\n",
    "import random\n",
    "from spacy.training.example import Example\n"
   ]
  },
  {
   "cell_type": "code",
   "execution_count": 2,
   "id": "374cc715-5291-4f18-aafe-c2d3219c06a6",
   "metadata": {},
   "outputs": [],
   "source": [
    "def load_data(file):\n",
    "    with open(file, \"r\", encoding=\"utf-8\") as f:\n",
    "        data = json.load(f)\n",
    "    return (data)\n",
    "\n",
    "def save_data(file, data):\n",
    "    with open (file, \"w\", encoding=\"utf-8\") as f:\n",
    "        json.dump(data, f, indent=4)\n",
    "        \n",
    "def convert(model,text):\n",
    "    doc = nlp(text)\n",
    "    results = []\n",
    "    entities = []\n",
    "    for ent in doc.ents:\n",
    "        entities.append((ent.start_char, ent.end_char, ent.label_))\n",
    "    if len(entities)>0:\n",
    "        results = [text,{\"entities\":entities}]\n",
    "    return (results)\n",
    "    "
   ]
  },
  {
   "cell_type": "code",
   "execution_count": 3,
   "id": "0956d1d2-5c6f-4ee7-9be0-2431d1dcd5a8",
   "metadata": {},
   "outputs": [],
   "source": [
    "role_descriptions = load_data('../data/description.txt')\n",
    "nlp = spacy.load(\"../ner_ruler/\")\n",
    "TRAIN_DATA = []\n",
    "for description in role_descriptions:\n",
    "    results = convert(nlp,description)\n",
    "    if (results != None) and (results != []):\n",
    "        TRAIN_DATA.append(results)"
   ]
  },
  {
   "cell_type": "code",
   "execution_count": 4,
   "id": "94b36b9d-656b-467c-9058-06d14f6d66d7",
   "metadata": {},
   "outputs": [],
   "source": [
    "valid_data_len = round(len(TRAIN_DATA)*(0.2))\n",
    "VALID_DATA = TRAIN_DATA[-valid_data_len:]\n",
    "TRAIN_DATA = TRAIN_DATA[:-valid_data_len]"
   ]
  },
  {
   "cell_type": "code",
   "execution_count": 5,
   "id": "0f85a1ed-8d86-4ef6-b357-0d1303681b5d",
   "metadata": {},
   "outputs": [],
   "source": [
    "save_data('./data/pl_training_data.json',TRAIN_DATA)\n",
    "save_data('./data/pl_validate_data.json',VALID_DATA)"
   ]
  },
  {
   "cell_type": "markdown",
   "id": "3677e437-ffa2-4c14-9943-55b6bd865689",
   "metadata": {},
   "source": [
    "## Create Test Data"
   ]
  },
  {
   "cell_type": "code",
   "execution_count": 6,
   "id": "4a89cd3c-c626-4017-8871-0478cb014a25",
   "metadata": {},
   "outputs": [],
   "source": [
    "role_descriptions = load_data('../data/test_description.txt')\n",
    "nlp = spacy.load(\"../ner_ruler\")\n",
    "TEST_DATA = []\n",
    "for description in role_descriptions:\n",
    "    results = convert(nlp,description)\n",
    "    if (results != None) and (results != []):\n",
    "        TEST_DATA.append(results)\n",
    "save_data('data/pl_test_data.json',TEST_DATA)"
   ]
  },
  {
   "cell_type": "markdown",
   "id": "9095e279-034c-42e8-8ccf-e95537f90023",
   "metadata": {},
   "source": [
    "# Train Model(V2)\n"
   ]
  },
  {
   "cell_type": "code",
   "execution_count": 110,
   "id": "1ad98722-2f1d-4a1c-ace7-3e56ba9bf3e2",
   "metadata": {},
   "outputs": [],
   "source": [
    "def train_spacy(data,iterations):\n",
    "    TRAIN_DATA = data\n",
    "    nlp = spacy.blank(\"en\")\n",
    "    if \"ner\" not in nlp.pipe_names:\n",
    "        # ner = nlp.create_pipe(\"ner\")\n",
    "        ruler = nlp.add_pipe(\"ner\",last=True)\n",
    "        \n",
    "    for _, annotations in TRAIN_DATA:\n",
    "        # print(annotations)\n",
    "        for ent in annotations.get(\"entities\"):\n",
    "            ruler.add_label(ent[2])\n",
    "            \n",
    "    other_pipes = [pipe for pipe in nlp.pipe_names if pipe != \"ner\"]\n",
    "    with nlp.disable_pipes(*other_pipes):\n",
    "        optimizer = nlp.initialize()\n",
    "        for itn in range(iterations):\n",
    "            print(\"Starting iteration \" + str(itn))\n",
    "            random.shuffle(TRAIN_DATA)\n",
    "            losses = {}\n",
    "            for text, annotations in TRAIN_DATA:\n",
    "                doc = nlp.make_doc(text)\n",
    "                example = Example.from_dict(doc, annotations)\n",
    "                nlp.update(\n",
    "                        [example],\n",
    "                        drop=0.2,\n",
    "                        sgd=optimizer,\n",
    "                        losses=losses\n",
    "                )\n",
    "            print(losses)\n",
    "    return (nlp)\n",
    "\n",
    "\n",
    "                    \n",
    "            "
   ]
  },
  {
   "cell_type": "code",
   "execution_count": null,
   "id": "f7f236b1-9380-43d2-b06b-4fab1d0139c7",
   "metadata": {},
   "outputs": [],
   "source": [
    "TRAIN_DATA = load_data(\"data/pl_training_data.json\")\n",
    "nlp = train_spacy(TRAIN_DATA, 30)\n",
    "nlp.to_disk(\"pl_ner_model\")"
   ]
  },
  {
   "cell_type": "code",
   "execution_count": 122,
   "id": "1c72ba4b-d22a-4f68-a5b5-832456e691ce",
   "metadata": {},
   "outputs": [],
   "source": [
    "sentence_array = []\n",
    "with open(\"data/test.txt\",\"r\") as f:\n",
    "    for line in f:\n",
    "        line = line.replace('\\n',\" \")\n",
    "        sentence_array.append(line)\n",
    "test = \"\"\n",
    "# temp = \"\"\n",
    "for sen in sentence_array:\n",
    "    test = test+sen"
   ]
  },
  {
   "cell_type": "code",
   "execution_count": 124,
   "id": "b9cfbdc1-d4a9-4051-849b-655f4694100f",
   "metadata": {},
   "outputs": [
    {
     "name": "stderr",
     "output_type": "stream",
     "text": [
      "C:\\Users\\ZACK LEE\\Documents\\Coding\\skill_finder\\env1\\lib\\site-packages\\spacy\\util.py:837: UserWarning: [W095] Model 'en_pipeline' (0.0.0) was trained with spaCy v3.2 and may not be 100% compatible with the current version (3.3.0). If you see errors or degraded performance, download a newer compatible model or retrain your custom model with the current spaCy version. For more details and available updates, run: python -m spacy validate\n",
      "  warnings.warn(warn_msg)\n"
     ]
    },
    {
     "name": "stdout",
     "output_type": "stream",
     "text": [
      "Python PROGLANG\n",
      "Python PROGLANG\n",
      "Python PROGLANG\n",
      "Python PROGLANG\n",
      "Java PROGLANG\n",
      "Java PROGLANG\n",
      "Java PROGLANG\n",
      "scala PROGLANG\n",
      "Java PROGLANG\n",
      "Java PROGLANG\n"
     ]
    }
   ],
   "source": [
    "nlp = spacy.load(\"pl_ner_model\")\n",
    "doc = nlp(test)\n",
    "for ent in doc.ents:\n",
    "    print(ent.text,ent.label_)\n",
    "    "
   ]
  },
  {
   "cell_type": "code",
   "execution_count": null,
   "id": "555d4c62-502c-4c29-a7dd-b1ad57122b89",
   "metadata": {},
   "outputs": [],
   "source": []
  }
 ],
 "metadata": {
  "kernelspec": {
   "display_name": "env1",
   "language": "python",
   "name": "env1"
  },
  "language_info": {
   "codemirror_mode": {
    "name": "ipython",
    "version": 3
   },
   "file_extension": ".py",
   "mimetype": "text/x-python",
   "name": "python",
   "nbconvert_exporter": "python",
   "pygments_lexer": "ipython3",
   "version": "3.8.6"
  }
 },
 "nbformat": 4,
 "nbformat_minor": 5
}
