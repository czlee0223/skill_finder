{
 "cells": [
  {
   "cell_type": "code",
   "execution_count": 1,
   "id": "d806c7c8-3165-4952-b344-390cda25d6e2",
   "metadata": {},
   "outputs": [],
   "source": [
    "from spacy.tokens import DocBin\n",
    "import spacy\n",
    "import json\n",
    "from tqdm import tqdm\n",
    "import spacy\n",
    "from spacy.tokens import DocBin\n",
    "import random\n",
    "\n"
   ]
  },
  {
   "cell_type": "code",
   "execution_count": 2,
   "id": "51d26cc9-d160-4129-9f95-0f1290bb9402",
   "metadata": {},
   "outputs": [],
   "source": [
    "def load_data(file):\n",
    "    with open (file, \"r\", encoding=\"utf-8\") as f:\n",
    "        data = json.load(f)\n",
    "    return (data)\n",
    "\n",
    "def write_data(file, data):\n",
    "    with open (file, \"w\", encoding=\"utf-8\") as f:\n",
    "        json.dump(data, f, indent=4)"
   ]
  },
  {
   "cell_type": "code",
   "execution_count": 3,
   "id": "bc3e6957-d9e5-4d90-8ffb-554453897903",
   "metadata": {},
   "outputs": [],
   "source": [
    "pl_train = load_data(\"./data/pl_training_data.json\")\n",
    "pl_valid = load_data(\"./data/pl_validate_data.json\")"
   ]
  },
  {
   "cell_type": "code",
   "execution_count": 4,
   "id": "91149661-5340-463f-aef1-57167a2fd6f4",
   "metadata": {},
   "outputs": [],
   "source": [
    "nlp = spacy.blank(\"en\") \n",
    "def create_training(TRAIN_DATA):\n",
    "    db = DocBin() # create a DocBin object\n",
    "    for text, annot in tqdm(TRAIN_DATA): # data in previous format\n",
    "        doc = nlp.make_doc(text) # create doc object from text\n",
    "        ents = []\n",
    "        for start, end, label in annot[\"entities\"]: # add character indexes\n",
    "            span = doc.char_span(start, end, label=label, alignment_mode=\"contract\")\n",
    "            if span is None:\n",
    "                print(\"Skipping entity\")\n",
    "            else:\n",
    "                ents.append(span)\n",
    "        doc.ents = ents # label the text with the ents\n",
    "        db.add(doc)\n",
    "    return (db)"
   ]
  },
  {
   "cell_type": "code",
   "execution_count": 5,
   "id": "c90b628e-14c5-4f31-b549-46d6246102d0",
   "metadata": {},
   "outputs": [
    {
     "name": "stderr",
     "output_type": "stream",
     "text": [
      "100%|███████████████████████████████████████████████████████████████████████████████| 246/246 [00:00<00:00, 287.63it/s]\n",
      "100%|█████████████████████████████████████████████████████████████████████████████████| 61/61 [00:00<00:00, 314.43it/s]\n"
     ]
    }
   ],
   "source": [
    "pl_train = create_training(pl_train)\n",
    "pl_train.to_disk(\"./data/pl_train.spacy\")\n",
    "pl_valid = create_training(pl_valid)\n",
    "pl_valid.to_disk(\"./data/pl_valid.spacy\")"
   ]
  },
  {
   "cell_type": "markdown",
   "id": "6d1edbda-ed61-4f11-976a-269cc87bf9a3",
   "metadata": {},
   "source": [
    "# Train Model "
   ]
  },
  {
   "cell_type": "markdown",
   "id": "1ad4d695-3b8a-484a-8a89-f0d2ca1aa47f",
   "metadata": {},
   "source": [
    "## Create config file\n"
   ]
  },
  {
   "cell_type": "code",
   "execution_count": 22,
   "id": "118b0999-832c-4548-b992-42371ebf25aa",
   "metadata": {},
   "outputs": [
    {
     "name": "stdout",
     "output_type": "stream",
     "text": [
      "[+] Auto-filled config with all values\n",
      "[+] Saved config\n",
      "model_v3\\config.cfg\n",
      "You can now add your data and train your pipeline:\n",
      "python -m spacy train config.cfg --paths.train ./train.spacy --paths.dev ./dev.spacy\n"
     ]
    }
   ],
   "source": [
    "!python -m spacy init fill-config ./base_config.cfg ./config.cfg"
   ]
  },
  {
   "cell_type": "markdown",
   "id": "68debef5-7076-423f-8383-4778a7597304",
   "metadata": {},
   "source": [
    "## Train"
   ]
  },
  {
   "cell_type": "code",
   "execution_count": null,
   "id": "d094a2b7-f212-416b-b609-42c351542da7",
   "metadata": {},
   "outputs": [],
   "source": [
    "!python -m spacy train ./config.cfg --output ./final_models_v2"
   ]
  },
  {
   "cell_type": "code",
   "execution_count": null,
   "id": "dee10752-48a5-41a5-be02-c6ca186821d6",
   "metadata": {},
   "outputs": [],
   "source": []
  }
 ],
 "metadata": {
  "kernelspec": {
   "display_name": "env1",
   "language": "python",
   "name": "env1"
  },
  "language_info": {
   "codemirror_mode": {
    "name": "ipython",
    "version": 3
   },
   "file_extension": ".py",
   "mimetype": "text/x-python",
   "name": "python",
   "nbconvert_exporter": "python",
   "pygments_lexer": "ipython3",
   "version": "3.8.6"
  }
 },
 "nbformat": 4,
 "nbformat_minor": 5
}
