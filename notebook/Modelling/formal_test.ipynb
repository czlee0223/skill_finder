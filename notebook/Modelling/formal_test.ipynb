{
 "cells": [
  {
   "cell_type": "code",
   "execution_count": 1,
   "id": "4a6b884c-a036-4f70-9ddc-74b34fa44483",
   "metadata": {},
   "outputs": [],
   "source": [
    "import spacy\n",
    "import json\n"
   ]
  },
  {
   "cell_type": "code",
   "execution_count": 2,
   "id": "6c631f3a-25a9-4080-baea-32d060985672",
   "metadata": {},
   "outputs": [],
   "source": [
    "def load_data(file):\n",
    "    with open(file,\"r\",encoding=\"utf-8\") as f:\n",
    "        data = json.load(f)\n",
    "    return data\n",
    "\n",
    "def write_data(file,data):\n",
    "    with open(file,\"w\",encoding=\"utf-8\") as f:\n",
    "        json.dump(data,f,indext=4)"
   ]
  },
  {
   "cell_type": "code",
   "execution_count": 3,
   "id": "9f7f7a27-b771-4efc-a60d-5d480cb3ff73",
   "metadata": {},
   "outputs": [],
   "source": [
    "# nlp = spacy.load(\"models/model-best/\")\n",
    "nlp = spacy.load(\"final_models_v2//model-best/\")"
   ]
  },
  {
   "cell_type": "code",
   "execution_count": 4,
   "id": "dda7cdec-805b-49c9-ae08-44997c0633cc",
   "metadata": {},
   "outputs": [
    {
     "data": {
      "text/plain": [
       "['Description  Job Description Analyse data to understand customers’ behaviours and interest Translate data insights into useful content to drive customers’ engagement Identify trends on the profitability of products and services and highlight opportunities or concerns Research into trade related content provided by other brokers or investment related platform and conduct cost-benefit analysis Gather statistics on other brokers/investment platform and generate ideas to give OSPL competitive edge Job Qualifications  Qualifications Bachelor or diploma in Computer Science, Information Systems or related fields. Experience with trading and investment preferred but not mandatory Comfortable with handling large set of data on excel Proficient in Excel and keen on data story telling Attention to detail as data analysis and reporting must be precise Good presentation, articulation and listening skills. Scripting language is a plus Primary Location  Singapore  Job  Internship  Organization  Group Human Resources Divisional Office  Schedule  Temporary  Full-time  Job Posting  30-May-2022, 3:49:35 PM',\n",
       " {'entities': [[534, 542, 'EDUCATION'],\n",
       "   [728, 733, 'TOOL'],\n",
       "   [748, 753, 'TOOL']]}]"
      ]
     },
     "execution_count": 4,
     "metadata": {},
     "output_type": "execute_result"
    }
   ],
   "source": [
    "docs = load_data(\"data/pl_test_data.json\")\n",
    "docs[0]"
   ]
  },
  {
   "cell_type": "code",
   "execution_count": 5,
   "id": "6cafa8aa-7671-49ac-8ceb-57533b8909ea",
   "metadata": {},
   "outputs": [],
   "source": [
    "from spacy.training import offsets_to_biluo_tags\n",
    "def get_cleaned_label(label: str):\n",
    "    if \"-\" in label:\n",
    "        return label.split(\"-\")[1]\n",
    "    else:\n",
    "        return label\n",
    "    \n",
    "def create_total_target_vector(docs):\n",
    "    target_vector = []\n",
    "    for doc in docs:\n",
    "        # print (doc)\n",
    "        new = nlp.make_doc(doc[0])\n",
    "        entities = doc[1][\"entities\"]\n",
    "        bilou_entities = offsets_to_biluo_tags(new, entities)\n",
    "        final = []\n",
    "        for item in bilou_entities:\n",
    "            final.append(get_cleaned_label(item))\n",
    "        target_vector.extend(final)\n",
    "    return target_vector\n",
    "\n"
   ]
  },
  {
   "cell_type": "code",
   "execution_count": 6,
   "id": "9f15ee5f-3413-4c84-89a7-d0817ddbc380",
   "metadata": {},
   "outputs": [],
   "source": [
    "def create_prediction_vector(text):\n",
    "    return [get_cleaned_label(prediction) for prediction in get_all_ner_predictions(text)]\n",
    "\n",
    "def create_total_prediction_vector(docs: list):\n",
    "    prediction_vector = []\n",
    "    for doc in docs:\n",
    "        prediction_vector.extend(create_prediction_vector(doc[0]))\n",
    "    return prediction_vector\n",
    "\n",
    "def get_all_ner_predictions(text):\n",
    "    doc = nlp(text)\n",
    "    entities = [(e.start_char, e.end_char, e.label_) for e in doc.ents]\n",
    "    bilou_entities = offsets_to_biluo_tags(doc, entities)\n",
    "    return bilou_entities"
   ]
  },
  {
   "cell_type": "code",
   "execution_count": 7,
   "id": "deee678f-2203-462f-9127-19251360c6fb",
   "metadata": {},
   "outputs": [],
   "source": [
    "def get_model_labels():\n",
    "    labels = list(nlp.get_pipe(\"ner\").labels)\n",
    "    labels.append(\"O\")\n",
    "    return sorted(labels)\n",
    "def get_dataset_labels():\n",
    "    return sorted(set(create_total_target_vector(docs)))"
   ]
  },
  {
   "cell_type": "code",
   "execution_count": 8,
   "id": "e01479fb-9cfb-43ee-b539-9488b0ace359",
   "metadata": {},
   "outputs": [],
   "source": [
    "from sklearn.metrics import confusion_matrix\n",
    "\n",
    "def generate_confusion_matrix(docs): \n",
    "    classes = sorted(set(create_total_target_vector(docs)))\n",
    "    y_true = create_total_target_vector(docs)\n",
    "    y_pred = create_total_prediction_vector(docs)\n",
    "    # print (y_true)\n",
    "    # print (y_pred)\n",
    "    return confusion_matrix(y_true, y_pred, labels=classes)"
   ]
  },
  {
   "cell_type": "code",
   "execution_count": 9,
   "id": "7475bfdd-2143-4d58-a660-2d7b714fc8aa",
   "metadata": {},
   "outputs": [],
   "source": [
    "from matplotlib import pyplot\n",
    "import numpy\n",
    "\n",
    "def plot_confusion_matrix(docs, classes, normalize=False, cmap=pyplot.cm.Blues):\n",
    "    \"\"\"\n",
    "    This function prints and plots the confusion matrix.\n",
    "    Normalization can be applied by setting `normalize=True`.\n",
    "    \"\"\"\n",
    "   \n",
    "    title = 'Confusion Matrix, for SpaCy NER'\n",
    "\n",
    "    # Compute confusion matrix\n",
    "    cm = generate_confusion_matrix(docs)\n",
    "    if normalize:\n",
    "        cm = cm.astype('float') / cm.sum(axis=1)[:, numpy.newaxis]\n",
    "\n",
    "    fig, ax = pyplot.subplots()\n",
    "    im = ax.imshow(cm, interpolation='nearest', cmap=cmap)\n",
    "    ax.figure.colorbar(im, ax=ax)\n",
    "    # We want to show all ticks...\n",
    "    ax.set(xticks=numpy.arange(cm.shape[1]),\n",
    "           yticks=numpy.arange(cm.shape[0]),\n",
    "           # ... and label them with the respective list entries\n",
    "           xticklabels=classes, yticklabels=classes,\n",
    "           title=title,\n",
    "           ylabel='True label',\n",
    "           xlabel='Predicted label')\n",
    "\n",
    "    # Rotate the tick labels and set their alignment.\n",
    "    pyplot.setp(ax.get_xticklabels(), rotation=45, ha=\"right\", rotation_mode=\"anchor\")\n",
    "\n",
    "    # Loop over data dimensions and create text annotations.\n",
    "    fmt = '.2f' if normalize else 'd'\n",
    "    thresh = cm.max() / 2.\n",
    "    for i in range(cm.shape[0]):\n",
    "        for j in range(cm.shape[1]):\n",
    "            ax.text(j, i, format(cm[i, j], fmt),\n",
    "                    ha=\"center\", va=\"center\",\n",
    "                    color=\"white\" if cm[i, j] > thresh else \"black\")\n",
    "    fig.tight_layout()\n",
    "    return cm, ax, pyplot"
   ]
  },
  {
   "cell_type": "code",
   "execution_count": 10,
   "id": "4bd9e995-c668-4339-abcf-60ae7a47f1d5",
   "metadata": {},
   "outputs": [
    {
     "data": {
      "text/plain": [
       "(array([[   23,     0,     0,     0,     0],\n",
       "        [    0,     5,     5,     0,     2],\n",
       "        [    0,     0, 17945,    13,     6],\n",
       "        [    0,     0,    12,    90,     2],\n",
       "        [    0,     0,     2,     3,    41]], dtype=int64),\n",
       " <AxesSubplot:title={'center':'Confusion Matrix, for SpaCy NER'}, xlabel='Predicted label', ylabel='True label'>,\n",
       " <module 'matplotlib.pyplot' from 'C:\\\\Users\\\\ZACK LEE\\\\Documents\\\\Coding\\\\skill_finder\\\\env1\\\\lib\\\\site-packages\\\\matplotlib\\\\pyplot.py'>)"
      ]
     },
     "execution_count": 10,
     "metadata": {},
     "output_type": "execute_result"
    },
    {
     "data": {
      "image/png": "[encoded data removed]",
      "text/plain": [
       "<Figure size 432x288 with 2 Axes>"
      ]
     },
     "metadata": {
      "needs_background": "light"
     },
     "output_type": "display_data"
    }
   ],
   "source": [
    "plot_confusion_matrix(docs,classes=get_dataset_labels(),normalize=False)"
   ]
  },
  {
   "cell_type": "code",
   "execution_count": null,
   "id": "628b0944-dcea-4cca-8232-9600c28b7396",
   "metadata": {},
   "outputs": [],
   "source": []
  }
 ],
 "metadata": {
  "kernelspec": {
   "display_name": "env1",
   "language": "python",
   "name": "env1"
  },
  "language_info": {
   "codemirror_mode": {
    "name": "ipython",
    "version": 3
   },
   "file_extension": ".py",
   "mimetype": "text/x-python",
   "name": "python",
   "nbconvert_exporter": "python",
   "pygments_lexer": "ipython3",
   "version": "3.8.6"
  }
 },
 "nbformat": 4,
 "nbformat_minor": 5
}
